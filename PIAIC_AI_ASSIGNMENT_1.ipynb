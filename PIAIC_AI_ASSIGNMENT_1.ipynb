{
 "cells": [
  {
   "cell_type": "markdown",
   "metadata": {},
   "source": [
    "1. Calculate Area of a Circle"
   ]
  },
  {
   "cell_type": "code",
   "execution_count": 1,
   "metadata": {},
   "outputs": [
    {
     "name": "stdout",
     "output_type": "stream",
     "text": [
      "Enter radius of the circle : 58\n",
      "Area of the Circle with radius 58.0 is 10569.688\n"
     ]
    }
   ],
   "source": [
    "r = float(input(\"Enter radius of the circle : \"))\n",
    "area = (3.142)*(r)**2\n",
    "print(\"Area of the Circle with radius\",r,\"is\",area)"
   ]
  },
  {
   "cell_type": "markdown",
   "metadata": {},
   "source": [
    "2. Check Number either positive, negative or zero"
   ]
  },
  {
   "cell_type": "code",
   "execution_count": 2,
   "metadata": {},
   "outputs": [
    {
     "name": "stdout",
     "output_type": "stream",
     "text": [
      "enter a number : 85\n",
      "Positive number entered\n"
     ]
    }
   ],
   "source": [
    "num = int(input(\"enter a number : \"))\n",
    "if (num < 0):\n",
    "    print(\"Negative number entered\")\n",
    "elif (num > 0):\n",
    "    print(\"Positive number entered\")\n",
    "else:\n",
    "    print(\"Zero entered\")"
   ]
  },
  {
   "cell_type": "markdown",
   "metadata": {},
   "source": [
    "3. Divisibility Check of two numbers"
   ]
  },
  {
   "cell_type": "code",
   "execution_count": 3,
   "metadata": {},
   "outputs": [
    {
     "name": "stdout",
     "output_type": "stream",
     "text": [
      "Enter numerator : 8\n",
      "Enter Denumerator : 4\n",
      "Number 8 is completely divisible by 4\n"
     ]
    }
   ],
   "source": [
    "n = int(input(\"Enter numerator : \"))\n",
    "d = int(input(\"Enter Denumerator : \"))\n",
    "if (n % d == 0):\n",
    "    print(\"Number\",n,\"is completely divisible by\",d)\n",
    "else:\n",
    "    print(\"Number\",n,\"is not completely divisible by\",d)"
   ]
  },
  {
   "cell_type": "markdown",
   "metadata": {},
   "source": [
    "4. Days Calculator"
   ]
  },
  {
   "cell_type": "code",
   "execution_count": 6,
   "metadata": {},
   "outputs": [
    {
     "name": "stdout",
     "output_type": "stream",
     "text": [
      "Start date(MM/DD/YYYY): 06/27/2019\n",
      "End date(MD/DD/YYYY): 07/30/2019\n",
      "There are 33 days between 2019-06-27 00:00:00 and 2019-07-30 00:00:00.\n"
     ]
    }
   ],
   "source": [
    "import datetime\n",
    "\n",
    "date1=datetime.datetime.strptime(input('Start date(MM/DD/YYYY): '), '%m/%d/%Y')\n",
    "#format is mm/dd/yyyy\n",
    "date2=datetime.datetime.strptime(input('End date(MD/DD/YYYY): '), '%m/%d/%Y')\n",
    "#format is mm/dd/yyyy\n",
    "remaindDays=date2-date1\n",
    "print(f\"There are {remaindDays.days} days between {date1} and {date2}.\")"
   ]
  },
  {
   "cell_type": "markdown",
   "metadata": {},
   "source": [
    "5. Calculate Volume of a sphere"
   ]
  },
  {
   "cell_type": "code",
   "execution_count": 7,
   "metadata": {},
   "outputs": [
    {
     "name": "stdout",
     "output_type": "stream",
     "text": [
      "Enter radius of sphere : 20\n",
      "Volume of sphere 33514.67\n"
     ]
    }
   ],
   "source": [
    "r = float(input(\"Enter radius of sphere : \"))\n",
    "volume = (4/3)*3.142*(r)**3\n",
    "print(\"Volume of sphere\",format(volume,'.2f'))"
   ]
  },
  {
   "cell_type": "markdown",
   "metadata": {},
   "source": [
    "6. Copy string n times"
   ]
  },
  {
   "cell_type": "code",
   "execution_count": 10,
   "metadata": {},
   "outputs": [
    {
     "name": "stdout",
     "output_type": "stream",
     "text": [
      "Enter string : Mursal\n",
      "How many copies of String you need : 75\n",
      "Mursal Mursal Mursal Mursal Mursal Mursal Mursal Mursal Mursal Mursal Mursal Mursal Mursal Mursal Mursal Mursal Mursal Mursal Mursal Mursal Mursal Mursal Mursal Mursal Mursal Mursal Mursal Mursal Mursal Mursal Mursal Mursal Mursal Mursal Mursal Mursal Mursal Mursal Mursal Mursal Mursal Mursal Mursal Mursal Mursal Mursal Mursal Mursal Mursal Mursal Mursal Mursal Mursal Mursal Mursal Mursal Mursal Mursal Mursal Mursal Mursal Mursal Mursal Mursal Mursal Mursal Mursal Mursal Mursal Mursal Mursal Mursal Mursal Mursal Mursal \n"
     ]
    }
   ],
   "source": [
    "string = input(\"Enter string : \")\n",
    "c = int(input(\"How many copies of String you need : \"))\n",
    "print((string+\" \")*c)"
   ]
  },
  {
   "cell_type": "markdown",
   "metadata": {},
   "source": [
    "7. Check if number is Even or Odd"
   ]
  },
  {
   "cell_type": "code",
   "execution_count": 11,
   "metadata": {},
   "outputs": [
    {
     "name": "stdout",
     "output_type": "stream",
     "text": [
      "Enter a number : 28\n",
      "28 is even\n"
     ]
    }
   ],
   "source": [
    "num = int(input(\"Enter a number : \"))\n",
    "if (num%2==0):\n",
    "    print(num,\"is even\")\n",
    "else:\n",
    "    print(num,\"is odd\")"
   ]
  },
  {
   "cell_type": "markdown",
   "metadata": {},
   "source": [
    "8. Vowel Tester"
   ]
  },
  {
   "cell_type": "code",
   "execution_count": 13,
   "metadata": {},
   "outputs": [
    {
     "name": "stdout",
     "output_type": "stream",
     "text": [
      "Enter an alphabet: J\n",
      "Letter  J  is not vowel\n"
     ]
    }
   ],
   "source": [
    "alphabet = input(\"Enter an alphabet: \")\n",
    "if (alphabet == 'a' or alphabet == 'e' or alphabet == 'i' or alphabet == 'o' or alphabet == 'u' or alphabet == 'A' or alphabet == 'E' or alphabet == 'I' or alphabet == 'O' or alphabet == 'U'):\n",
    "    print(\"Letter \",alphabet,\" is vowel\")\n",
    "else:\n",
    "    print(\"Letter \",alphabet,\" is not vowel\")"
   ]
  },
  {
   "cell_type": "markdown",
   "metadata": {},
   "source": [
    "9. Triangle area"
   ]
  },
  {
   "cell_type": "code",
   "execution_count": 14,
   "metadata": {},
   "outputs": [
    {
     "name": "stdout",
     "output_type": "stream",
     "text": [
      "Enter magnitude of the Triangle base : 85\n",
      "Enter magnitude of the Triangle height : 15\n",
      "Area of a the Triangle with Height  15.0  and   Base  85.0  is  637.5\n"
     ]
    }
   ],
   "source": [
    "base = float(input(\"Enter magnitude of the Triangle base : \"))\n",
    "height = float(input(\"Enter magnitude of the Triangle height : \"))\n",
    "area = (1/2)*base*height\n",
    "print(\"Area of a the Triangle with Height \", height, \" and \", \" Base \", base, \" is \", area)"
   ]
  },
  {
   "cell_type": "markdown",
   "metadata": {},
   "source": [
    "10. Calculate Interest"
   ]
  },
  {
   "cell_type": "code",
   "execution_count": 16,
   "metadata": {},
   "outputs": [
    {
     "name": "stdout",
     "output_type": "stream",
     "text": [
      "Please enter principal amount : 100\n",
      "Please Enter Rate of interest in % : 10\n",
      "Enter number of years for investment : 10\n",
      "After  10  years your principal amount  100  over an interest rate of  10.0 % will be  259.4\n"
     ]
    }
   ],
   "source": [
    "amount = int(input(\"Please enter principal amount : \"))\n",
    "rate = float(input(\"Please Enter Rate of interest in % : \"))\n",
    "years = int(input(\"Enter number of years for investment : \"))\n",
    "total = amount * ((1+ (10/100)) ** years)\n",
    "print(\"After \",years, \" years your principal amount \", amount, \" over an interest rate of \", rate, \"% will be \", format(total,'.1f'))"
   ]
  },
  {
   "cell_type": "markdown",
   "metadata": {},
   "source": [
    "11. Euclidean distance"
   ]
  },
  {
   "cell_type": "code",
   "execution_count": 17,
   "metadata": {},
   "outputs": [
    {
     "name": "stdout",
     "output_type": "stream",
     "text": [
      "Enter Co-ordinate for x1 : 5\n",
      "Enter Co-ordinate for x2 : 6\n",
      "Enter Co-ordinate for y1 : 8\n",
      "Enter Co-ordinate for y2 : 7\n",
      "Distance between points ( 5 , 6 ) and ( 8 , 7 ) is  1.4142135623730951\n"
     ]
    }
   ],
   "source": [
    "import math\n",
    "\n",
    "x1 = int(input(\"Enter Co-ordinate for x1 : \"))\n",
    "x2 = int(input(\"Enter Co-ordinate for x2 : \"))\n",
    "y1 = int(input(\"Enter Co-ordinate for y1 : \"))\n",
    "y2 = int(input(\"Enter Co-ordinate for y2 : \"))\n",
    "\n",
    "d = math.sqrt((x2 - x1)**2 + (y2 - y1)**2)\n",
    "print(\"Distance between points (\",x1, \",\" ,x2,\") and (\",y1, \",\" ,y2,\") is \", d)"
   ]
  },
  {
   "cell_type": "markdown",
   "metadata": {},
   "source": [
    "12. Feet to Centimeter Converter"
   ]
  },
  {
   "cell_type": "code",
   "execution_count": 18,
   "metadata": {},
   "outputs": [
    {
     "name": "stdout",
     "output_type": "stream",
     "text": [
      "Enter height in feet : 52\n",
      "There are  1584.96 cm in  52 ft\n"
     ]
    }
   ],
   "source": [
    "height = int(input(\"Enter height in feet : \"))\n",
    "centimeter = height * 30.48\n",
    "print(\"There are \", centimeter, \"cm in \", height, \"ft\")"
   ]
  },
  {
   "cell_type": "markdown",
   "metadata": {},
   "source": [
    "13. BMI Calculator"
   ]
  },
  {
   "cell_type": "code",
   "execution_count": 19,
   "metadata": {},
   "outputs": [
    {
     "name": "stdout",
     "output_type": "stream",
     "text": [
      "Enter height in centimeter : 265\n",
      "Enter weight in kilogram : 91\n",
      "Your BMI is  12.96\n"
     ]
    }
   ],
   "source": [
    "height = float(input(\"Enter height in centimeter : \"))\n",
    "weight = float(input(\"Enter weight in kilogram : \"))\n",
    "BMI = (weight/(height*0.01)**2)\n",
    "print(\"Your BMI is \",format(BMI,'.2f'))"
   ]
  },
  {
   "cell_type": "markdown",
   "metadata": {},
   "source": [
    "14. Sum of n Positive Integers"
   ]
  },
  {
   "cell_type": "code",
   "execution_count": 21,
   "metadata": {},
   "outputs": [
    {
     "name": "stdout",
     "output_type": "stream",
     "text": [
      "Enter value of n : 5050\n",
      "Sum of n Positive integers till  5050  is  12753775\n"
     ]
    }
   ],
   "source": [
    "total = 0\n",
    "n = int(input(\"Enter value of n : \"))\n",
    "for i in range(n+1):\n",
    "    total += i\n",
    "print(\"Sum of n Positive integers till \", n, \" is \", total)"
   ]
  },
  {
   "cell_type": "markdown",
   "metadata": {},
   "source": [
    "15. Digits Sum of a Number"
   ]
  },
  {
   "cell_type": "code",
   "execution_count": 34,
   "metadata": {},
   "outputs": [
    {
     "name": "stdout",
     "output_type": "stream",
     "text": [
      "Enter a number: 2549\n",
      "The sum of digits of number is 20\n"
     ]
    }
   ],
   "source": [
    "# taking number\n",
    "num = int(input(\"Enter a number: \"))\n",
    "# initializing sum to zero\n",
    "sum = 0\n",
    "# going through every digit using every for loop\n",
    "while num > 0:\n",
    "    d = num%10\n",
    "    num = num//10\n",
    "    sum += d\n",
    "    \n",
    "    # we can write above code in single line\n",
    "    # uncomment the below line and comment the above three lines\n",
    "    # num,sum = num//10,sum+(num%10)\n",
    "# printing the sum\n",
    "print(\"The sum of digits of number is\",sum)"
   ]
  },
  {
   "cell_type": "markdown",
   "metadata": {},
   "source": [
    "16. Decimal to Binary Converter"
   ]
  },
  {
   "cell_type": "code",
   "execution_count": 35,
   "metadata": {},
   "outputs": [
    {
     "name": "stdout",
     "output_type": "stream",
     "text": [
      "Enter a decimal number : 48\n",
      "Binary Representation of 48 is 0110000\n"
     ]
    }
   ],
   "source": [
    "n=int(input('Enter a decimal number : '))\n",
    "x=n\n",
    "k=[]\n",
    "while (n>0):\n",
    "    a=int(float(n%2))\n",
    "    k.append(a)\n",
    "    n=(n-a)/2\n",
    "k.append(0)\n",
    "string=\"\"\n",
    "for j in k[::-1]:\n",
    "    string=string+str(j)\n",
    "print('Binary Representation of %d is %s'%(x, string))"
   ]
  },
  {
   "cell_type": "markdown",
   "metadata": {},
   "source": [
    "17. Binary to Decimal Converter"
   ]
  },
  {
   "cell_type": "code",
   "execution_count": 36,
   "metadata": {},
   "outputs": [
    {
     "name": "stdout",
     "output_type": "stream",
     "text": [
      "Input a binary number: 001100110\n",
      "Decimal Representation value is 102\n"
     ]
    }
   ],
   "source": [
    "binary = list(input(\"Input a binary number: \"))\n",
    "value = 0\n",
    "\n",
    "for i in range(len(binary)):\n",
    "    digit = binary.pop()\n",
    "    if digit == '1':\n",
    "        value = value + pow(2, i)\n",
    "print(\"Decimal Representation value is\", value)"
   ]
  },
  {
   "cell_type": "markdown",
   "metadata": {},
   "source": [
    "18. Vowel and Consonants Counter"
   ]
  },
  {
   "cell_type": "code",
   "execution_count": 37,
   "metadata": {},
   "outputs": [
    {
     "name": "stdout",
     "output_type": "stream",
     "text": [
      "Enter text : Mursal\n",
      "Vowels :  2\n",
      "Consonants :  4\n"
     ]
    }
   ],
   "source": [
    "word = input(\"Enter text : \")\n",
    "vowels = 0\n",
    "consonants = 0\n",
    "\n",
    "for i in word:\n",
    "    if(i == 'a' or i == 'e' or i == 'i' or i == 'o' or i == 'u'\n",
    "       or i == 'A' or i == 'E' or i == 'I' or i == 'O' or i == 'U'):\n",
    "        vowels = vowels + 1\n",
    "    else:\n",
    "        consonants = consonants + 1\n",
    "print(\"Vowels : \", vowels)\n",
    "print(\"Consonants : \", consonants)\n"
   ]
  },
  {
   "cell_type": "markdown",
   "metadata": {},
   "source": [
    "19. Palindrome tester"
   ]
  },
  {
   "cell_type": "code",
   "execution_count": 38,
   "metadata": {},
   "outputs": [
    {
     "name": "stdout",
     "output_type": "stream",
     "text": [
      "Enter text : Furqan\n",
      "text Furqan is not Palindrome\n"
     ]
    }
   ],
   "source": [
    "string=input(\"Enter text : \")\n",
    "if (string[::1]==string[::-1]):\n",
    "    print(\"text\",string, \"is Palindrome\")\n",
    "else:\n",
    "    print(\"text\",string, \"is not Palindrome\")"
   ]
  },
  {
   "cell_type": "markdown",
   "metadata": {},
   "source": [
    "20. Count Alphabets, Numbers and Special Characters"
   ]
  },
  {
   "cell_type": "code",
   "execution_count": 39,
   "metadata": {},
   "outputs": [
    {
     "name": "stdout",
     "output_type": "stream",
     "text": [
      "Please Enter your Own String : My name is Mursal Furqan\n",
      "Numbers :   0\n",
      "Alphabets :  20\n",
      "Specail Characters :  0\n",
      "Spaces :  4\n"
     ]
    }
   ],
   "source": [
    "string = input(\"Please Enter your Own String : \")\n",
    "alphabets = 0\n",
    "digits = 0\n",
    "special = 0\n",
    "space = 0\n",
    "\n",
    "for i in range(len(string)):\n",
    "    if(string[i].isalpha()):\n",
    "        alphabets = alphabets + 1\n",
    "    elif(string[i].isdigit()):\n",
    "        digits = digits + 1\n",
    "    elif(string[i]==\".\" or string[i]=='&' or string[i]=='$' or string[i]=='$'  or string[i]==']'):\n",
    "        special += 1\n",
    "    else:\n",
    "        space += 1\n",
    "print(\"Numbers :  \", digits)        \n",
    "print(\"Alphabets : \", alphabets)\n",
    "print(\"Specail Characters : \", special)\n",
    "print(\"Spaces : \", space)"
   ]
  },
  {
   "cell_type": "markdown",
   "metadata": {},
   "source": [
    "21. Pattern 1"
   ]
  },
  {
   "cell_type": "code",
   "execution_count": 40,
   "metadata": {},
   "outputs": [
    {
     "name": "stdout",
     "output_type": "stream",
     "text": [
      "* \r\n",
      "* * \r\n",
      "* * * \r\n",
      "* * * * \r\n",
      "* * * * * \r\n",
      "* * * * \r\n",
      "* * * \r\n",
      "* * \r\n",
      "* \r\n",
      "\r\n"
     ]
    }
   ],
   "source": [
    "rows = 5\n",
    "for i in range (0, rows):\n",
    "    for j in range(0, i + 1):\n",
    "        print(\"*\", end=' ')\n",
    "    print(\"\\r\")\n",
    "for i in range (rows, 0, -1):\n",
    "    for j in range(0, i -1):\n",
    "        print(\"*\", end=' ')\n",
    "    print(\"\\r\")"
   ]
  },
  {
   "cell_type": "markdown",
   "metadata": {},
   "source": [
    "22. Pattern 2"
   ]
  },
  {
   "cell_type": "code",
   "execution_count": 41,
   "metadata": {},
   "outputs": [
    {
     "name": "stdout",
     "output_type": "stream",
     "text": [
      "1 \r\n",
      "1 2 \r\n",
      "1 2 3 \r\n",
      "1 2 3 4 \r\n",
      "1 2 3 4 5 \r\n",
      "1 2 3 4 \r\n",
      "1 2 3 \r\n",
      "1 2 \r\n",
      "1 \r\n",
      "\r\n"
     ]
    }
   ],
   "source": [
    "rows = 5\n",
    "for i in range (0, rows):\n",
    "    for j in range(0, i + 1):\n",
    "        print(j+1, end=' ')\n",
    "    print(\"\\r\")\n",
    "for i in range (rows, 0, -1):\n",
    "    for j in range(0, i -1):\n",
    "        print(j+1, end=' ')\n",
    "    print(\"\\r\")"
   ]
  },
  {
   "cell_type": "markdown",
   "metadata": {},
   "source": [
    "23. Pattern 3"
   ]
  },
  {
   "cell_type": "code",
   "execution_count": 42,
   "metadata": {},
   "outputs": [
    {
     "name": "stdout",
     "output_type": "stream",
     "text": [
      "\n",
      "\n",
      "1 \n",
      "\n",
      "2 2 \n",
      "\n",
      "3 3 3 \n",
      "\n",
      "4 4 4 4 \n",
      "\n",
      "5 5 5 5 5 \n",
      "\n",
      "6 6 6 6 6 6 \n",
      "\n",
      "7 7 7 7 7 7 7 \n",
      "\n",
      "8 8 8 8 8 8 8 8 \n",
      "\n",
      "9 9 9 9 9 9 9 9 9 \n",
      "\n"
     ]
    }
   ],
   "source": [
    "for num in range(10):\n",
    "    for i in range(num):\n",
    "        print (num, end=\" \")\n",
    "    print(\"\\n\")"
   ]
  }
 ],
 "metadata": {
  "kernelspec": {
   "display_name": "Python 3",
   "language": "python",
   "name": "python3"
  },
  "language_info": {
   "codemirror_mode": {
    "name": "ipython",
    "version": 3
   },
   "file_extension": ".py",
   "mimetype": "text/x-python",
   "name": "python",
   "nbconvert_exporter": "python",
   "pygments_lexer": "ipython3",
   "version": "3.7.1"
  }
 },
 "nbformat": 4,
 "nbformat_minor": 2
}
